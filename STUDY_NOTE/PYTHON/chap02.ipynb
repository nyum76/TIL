{
 "cells": [
  {
   "cell_type": "code",
   "execution_count": 1,
   "metadata": {},
   "outputs": [],
   "source": [
    "# 2-1 자료형과 문자열\n",
    "'''\n",
    "자료형 (data type)\n",
    "    문자열 (string) : 글자들이 나열된 것. 따옴표로 둘러싸임 (\"안녕하세요\", \"Hello World\")\n",
    "    숫자 (number) : (52,300)\n",
    "    불 (boolean) : (True, False)\n",
    "'''"
   ]
  },
  {
   "cell_type": "code",
   "execution_count": 5,
   "metadata": {},
   "outputs": [
    {
     "name": "stdout",
     "output_type": "stream",
     "text": [
      "<class 'str'>\n",
      "<class 'int'>\n",
      "<class 'list'>\n"
     ]
    }
   ],
   "source": [
    "# 자료형 확인 : type() 함수\n",
    "print(type(\"안녕하세요\"))\n",
    "print(type(300))\n",
    "print(type([4,5,6]))"
   ]
  },
  {
   "cell_type": "code",
   "execution_count": 7,
   "metadata": {},
   "outputs": [
    {
     "ename": "SyntaxError",
     "evalue": "invalid syntax. Perhaps you forgot a comma? (715127098.py, line 2)",
     "output_type": "error",
     "traceback": [
      "\u001b[0;36m  Cell \u001b[0;32mIn[7], line 2\u001b[0;36m\u001b[0m\n\u001b[0;31m    print(\"\"안녕\"이라고 말했다\") # 잘못된 예 : SyntaxError : invaild syntax\u001b[0m\n\u001b[0m          ^\u001b[0m\n\u001b[0;31mSyntaxError\u001b[0m\u001b[0;31m:\u001b[0m invalid syntax. Perhaps you forgot a comma?\n"
     ]
    }
   ],
   "source": [
    "# 문자열 내부에 따옴표 넣기\n",
    "print(\"\"안녕\"이라고 말했다\") # 잘못된 예 : SyntaxError : invaild syntax"
   ]
  },
  {
   "cell_type": "code",
   "execution_count": 9,
   "metadata": {},
   "outputs": [
    {
     "name": "stdout",
     "output_type": "stream",
     "text": [
      "\"안녕\"이라고 말했다\n",
      "'hello', he said\n"
     ]
    }
   ],
   "source": [
    "print('\"안녕\"이라고 말했다') # 섞어 써서 오류 안 생기도록\n",
    "print(\"'hello', he said\")"
   ]
  },
  {
   "cell_type": "code",
   "execution_count": 15,
   "metadata": {},
   "outputs": [
    {
     "name": "stdout",
     "output_type": "stream",
     "text": [
      "\"hi\", he said\n",
      "'helllllo',she said\n",
      "동해물과 백두산이 마르고 닳도록\n",
      "하느님이 보우하사 우리나라 만세\n",
      "무궁화 삼천리 화려강산\n",
      "대한사람 대한으로 길이 보전하세\n",
      "\n",
      "아아\n",
      "      안\n",
      "      녕\n",
      "      하\n",
      "      십\n",
      "      니\n",
      "      까\n"
     ]
    }
   ],
   "source": [
    "# 이스케이프 문자 (escape character) : 역슬래시 (\\) 기호와 함께 조합해 사용하는 특수한 문자 \n",
    "# (\\\") : 큰따옴표 의미\n",
    "# (\\') : 작은따옴표 의미\n",
    "print(\"\\\"hi\\\", he said\")\n",
    "print('\\'helllllo\\',she said')\n",
    "'''그 외 이스케이프 문자\n",
    "\\n : 줄바꿈\n",
    "\\t : 탭\n",
    "'''\n",
    "# 여러 줄 문자열 만들기\n",
    "print('동해물과 백두산이 마르고 닳도록\\n하느님이 보우하사 우리나라 만세\\n무궁화 삼천리 화려강산\\n대한사람 대한으로 길이 보전하세') # 이스케이프 문자 사용\n",
    "print()\n",
    "print(\"\"\"아아\n",
    "      안\n",
    "      녕\n",
    "      하\n",
    "      십\n",
    "      니\n",
    "      까\"\"\") # 따옴표 세 개와 엔터 조합"
   ]
  },
  {
   "cell_type": "code",
   "execution_count": 17,
   "metadata": {},
   "outputs": [
    {
     "name": "stdout",
     "output_type": "stream",
     "text": [
      "민민<3\n"
     ]
    },
    {
     "ename": "TypeError",
     "evalue": "can only concatenate str (not \"int\") to str",
     "output_type": "error",
     "traceback": [
      "\u001b[0;31m---------------------------------------------------------------------------\u001b[0m",
      "\u001b[0;31mTypeError\u001b[0m                                 Traceback (most recent call last)",
      "Cell \u001b[0;32mIn[17], line 4\u001b[0m\n\u001b[1;32m      1\u001b[0m \u001b[38;5;66;03m# 문자열 연산자\u001b[39;00m\n\u001b[1;32m      2\u001b[0m \u001b[38;5;28mprint\u001b[39m(\u001b[38;5;124m\"\u001b[39m\u001b[38;5;124m민민\u001b[39m\u001b[38;5;124m\"\u001b[39m\u001b[38;5;241m+\u001b[39m\u001b[38;5;124m\"\u001b[39m\u001b[38;5;124m<3\u001b[39m\u001b[38;5;124m\"\u001b[39m) \u001b[38;5;66;03m# 연결 연산자 (+)\u001b[39;00m\n\u001b[0;32m----> 4\u001b[0m \u001b[38;5;28mprint\u001b[39m(\u001b[38;5;124m\"\u001b[39m\u001b[38;5;124m민민\u001b[39m\u001b[38;5;124m\"\u001b[39m\u001b[38;5;241m+\u001b[39m\u001b[38;5;241m1\u001b[39m)\n",
      "\u001b[0;31mTypeError\u001b[0m: can only concatenate str (not \"int\") to str"
     ]
    }
   ],
   "source": [
    "# 문자열 연산자\n",
    "\n",
    "\n",
    "print(\"민민\"+\"<3\") # 연결 연산자 (+)\n",
    "# 문자열인 자료형끼리만 연결해야함\n",
    "print(\"민민\"+1) # TypeError: can only concatenate str (not \"int\") to str"
   ]
  },
  {
   "cell_type": "code",
   "execution_count": 19,
   "metadata": {},
   "outputs": [
    {
     "name": "stdout",
     "output_type": "stream",
     "text": [
      "민민\n",
      "minmin\n"
     ]
    }
   ],
   "source": [
    "print(\"민\"*2) # 반복 연산자 (*)\n",
    "print(2*\"min\")"
   ]
  },
  {
   "cell_type": "code",
   "execution_count": 25,
   "metadata": {},
   "outputs": [
    {
     "name": "stdout",
     "output_type": "stream",
     "text": [
      "안\n",
      "요\n"
     ]
    }
   ],
   "source": [
    "print(\"안녕하세요\"[0]) # 인덱싱 ([])\n",
    "print(\"안녕하세요\"[-1]) # 음수 인덱싱 : 뒤부터 선택"
   ]
  },
  {
   "cell_type": "code",
   "execution_count": 27,
   "metadata": {},
   "outputs": [
    {
     "name": "stdout",
     "output_type": "stream",
     "text": [
      "녕하세\n"
     ]
    }
   ],
   "source": [
    "print(\"안녕하세요\"[1:4]) # 슬라이싱 ([:])"
   ]
  },
  {
   "cell_type": "code",
   "execution_count": 28,
   "metadata": {},
   "outputs": [
    {
     "ename": "IndexError",
     "evalue": "string index out of range",
     "output_type": "error",
     "traceback": [
      "\u001b[0;31m---------------------------------------------------------------------------\u001b[0m",
      "\u001b[0;31mIndexError\u001b[0m                                Traceback (most recent call last)",
      "Cell \u001b[0;32mIn[28], line 2\u001b[0m\n\u001b[1;32m      1\u001b[0m \u001b[38;5;66;03m# IndexError(index out of range) 예외\u001b[39;00m\n\u001b[0;32m----> 2\u001b[0m \u001b[38;5;28mprint\u001b[39m(\u001b[38;5;124m\"\u001b[39m\u001b[38;5;124m안녕하세요\u001b[39m\u001b[38;5;124m\"\u001b[39m[\u001b[38;5;241m10\u001b[39m])\n",
      "\u001b[0;31mIndexError\u001b[0m: string index out of range"
     ]
    }
   ],
   "source": [
    "# IndexError(index out of range) 예외\n",
    "print(\"안녕하세요\"[10]) # 리스트/문자열의 수를 넘는 부분을 선택함"
   ]
  },
  {
   "cell_type": "code",
   "execution_count": 29,
   "metadata": {},
   "outputs": [
    {
     "name": "stdout",
     "output_type": "stream",
     "text": [
      "8\n"
     ]
    }
   ],
   "source": [
    "# 문자열 길이 구하기 : len() 함수\n",
    "print(len(\"hihihihi\"))"
   ]
  },
  {
   "cell_type": "code",
   "execution_count": 32,
   "metadata": {},
   "outputs": [
    {
     "name": "stdout",
     "output_type": "stream",
     "text": [
      "<class 'int'>\n",
      "<class 'float'>\n"
     ]
    }
   ],
   "source": [
    "# 2-2 숫자\n",
    "\n",
    "# 숫자의 종류\n",
    "print(type(200)) # 정수, integer(int)\n",
    "\n",
    "print(type(3.14)) # 부동 소수점 (실수), float"
   ]
  },
  {
   "cell_type": "code",
   "execution_count": 37,
   "metadata": {},
   "outputs": [
    {
     "name": "stdout",
     "output_type": "stream",
     "text": [
      "10\n",
      "4\n",
      "21\n",
      "2.3333333333333335\n"
     ]
    }
   ],
   "source": [
    "# 연산자\n",
    "\n",
    "a=7\n",
    "b=3\n",
    "\n",
    "# 사칙 연산자\n",
    "print(a+b)\n",
    "print(a-b)\n",
    "print(a*b)\n",
    "print(a/b)"
   ]
  },
  {
   "cell_type": "code",
   "execution_count": 38,
   "metadata": {},
   "outputs": [
    {
     "name": "stdout",
     "output_type": "stream",
     "text": [
      "2\n"
     ]
    }
   ],
   "source": [
    "# 정수 나누기 연산자 (//)\n",
    "print(a//b)"
   ]
  },
  {
   "cell_type": "code",
   "execution_count": 39,
   "metadata": {},
   "outputs": [
    {
     "name": "stdout",
     "output_type": "stream",
     "text": [
      "1\n"
     ]
    }
   ],
   "source": [
    "# 나머지 연산자 (%)\n",
    "print(a%b)"
   ]
  },
  {
   "cell_type": "code",
   "execution_count": 40,
   "metadata": {},
   "outputs": [
    {
     "name": "stdout",
     "output_type": "stream",
     "text": [
      "343\n"
     ]
    }
   ],
   "source": [
    "# 제곱 연산자\n",
    "print(a**b) # 7^3"
   ]
  },
  {
   "cell_type": "code",
   "execution_count": 41,
   "metadata": {},
   "outputs": [
    {
     "name": "stdout",
     "output_type": "stream",
     "text": [
      "원주율 = 3.14159265\n",
      "반지름 = 10\n",
      "원의 둘레 = 62.831853\n",
      "원의 넓이 = 314.159265\n"
     ]
    }
   ],
   "source": [
    "# 2-3 변수와 입력\n",
    "\n",
    "# 변수 선언과 할당\n",
    "pi=3.14159265\n",
    "r=10\n",
    "\n",
    "# 변수 참조\n",
    "print(\"원주율 =\", pi)\n",
    "print(\"반지름 =\", r)\n",
    "print(\"원의 둘레 =\",2*pi*r)\n",
    "print(\"원의 넓이 =\",pi*r*r)"
   ]
  },
  {
   "cell_type": "code",
   "execution_count": 43,
   "metadata": {},
   "outputs": [
    {
     "data": {
      "text/plain": [
       "27"
      ]
     },
     "execution_count": 43,
     "metadata": {},
     "output_type": "execute_result"
    }
   ],
   "source": [
    "# 복합 대입 연산자\n",
    "'''\n",
    "종류\n",
    "    +=\n",
    "    -=\n",
    "    *=\n",
    "    /=\n",
    "    %=\n",
    "    **=\n",
    "'''\n",
    "a+=10 # a=a+10 과 같음\n",
    "a"
   ]
  },
  {
   "cell_type": "code",
   "execution_count": 2,
   "metadata": {},
   "outputs": [
    {
     "data": {
      "text/plain": [
       "'minmin'"
      ]
     },
     "execution_count": 2,
     "metadata": {},
     "output_type": "execute_result"
    }
   ],
   "source": [
    "# 입력 받기  : input()\n",
    "# **input 의 결과는 문자열 자료형으로 반환됨**\n",
    "input(\"What's your name? : \")"
   ]
  },
  {
   "cell_type": "code",
   "execution_count": null,
   "metadata": {},
   "outputs": [],
   "source": []
  }
 ],
 "metadata": {
  "kernelspec": {
   "display_name": "Python (ML_test)",
   "language": "python",
   "name": "ml_test"
  },
  "language_info": {
   "codemirror_mode": {
    "name": "ipython",
    "version": 3
   },
   "file_extension": ".py",
   "mimetype": "text/x-python",
   "name": "python",
   "nbconvert_exporter": "python",
   "pygments_lexer": "ipython3",
   "version": "3.12.7"
  }
 },
 "nbformat": 4,
 "nbformat_minor": 2
}
