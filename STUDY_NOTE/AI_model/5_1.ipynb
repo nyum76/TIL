{
 "cells": [
  {
   "cell_type": "markdown",
   "metadata": {},
   "source": [
    "# FastAPI 활용한 API 구축\n",
    "\n",
    "* FAST API 설치 및 기본 설정\n",
    "`pip install fastapi uvicorn`"
   ]
  },
  {
   "cell_type": "code",
   "execution_count": 1,
   "metadata": {},
   "outputs": [],
   "source": [
    "from fastapi import FastAPI\n",
    "\n",
    "# app : 간단하게 FastAPI의 인스턴스 생성 가능. FastAPI 핵심요소로 웹어플리케이션 정리와 실행 담당 (예 : 엔드포인트 정리 등)\n",
    "app = FastAPI()\n",
    "\n",
    "@app.get(\"/\") # FastAPI 인스턴스를 통해 get 메서드 정리 ( url로 메서드 호출 시 read_root 실행되어 함수가 반환하는게 결과값이 됨 )\n",
    "def read_root(): \n",
    "    return {\"message\":\"hello world\"} \n"
   ]
  },
  {
   "cell_type": "markdown",
   "metadata": {},
   "source": [
    "\n",
    "* FastAPI 서버 실행\n",
    "\n",
    "`uvicorn 5_1:app --reload`\n",
    "* 위에 작성한 파이썬 파일의 이름:--reload(코드 변경될 때 서버를 자동으로 다시 로드)\n",
    "* 확장자는 생략하는데 .ipynb 파일이면 안되고 .py 파일이어야 됨"
   ]
  },
  {
   "cell_type": "code",
   "execution_count": null,
   "metadata": {},
   "outputs": [],
   "source": []
  },
  {
   "cell_type": "code",
   "execution_count": null,
   "metadata": {},
   "outputs": [],
   "source": []
  }
 ],
 "metadata": {
  "kernelspec": {
   "display_name": "Python (AI_8)",
   "language": "python",
   "name": "ai_8"
  },
  "language_info": {
   "codemirror_mode": {
    "name": "ipython",
    "version": 3
   },
   "file_extension": ".py",
   "mimetype": "text/x-python",
   "name": "python",
   "nbconvert_exporter": "python",
   "pygments_lexer": "ipython3",
   "version": "3.12.7"
  }
 },
 "nbformat": 4,
 "nbformat_minor": 2
}
