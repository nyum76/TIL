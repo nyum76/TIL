{
 "cells": [
  {
   "cell_type": "code",
   "execution_count": 1,
   "metadata": {},
   "outputs": [
    {
     "name": "stderr",
     "output_type": "stream",
     "text": [
      "USER_AGENT environment variable not set, consider setting it to identify your requests.\n"
     ]
    }
   ],
   "source": [
    "from langchain_community.vectorstores import FAISS\n",
    "from langchain_community.document_loaders import WebBaseLoader\n",
    "from langchain_core.output_parsers import StrOutputParser\n",
    "from langchain_core.runnables import RunnablePassthrough\n",
    "from langchain_openai import OpenAIEmbeddings\n",
    "from langchain_text_splitters import RecursiveCharacterTextSplitter\n",
    "from langchain_openai import ChatOpenAI\n",
    "from langchain_core.prompts import ChatPromptTemplate\n",
    "from langchain.document_loaders import PyPDFLoader"
   ]
  },
  {
   "cell_type": "code",
   "execution_count": 2,
   "metadata": {},
   "outputs": [],
   "source": [
    "\n",
    "####################\n",
    "####### RAG 챗봇 구축\n",
    "###################\n",
    "\n",
    "# 1. LLM 모델 불러오기\n",
    "llm = ChatOpenAI(model=\"gpt-4o-mini\")\n"
   ]
  },
  {
   "cell_type": "code",
   "execution_count": 3,
   "metadata": {},
   "outputs": [
    {
     "name": "stdout",
     "output_type": "stream",
     "text": [
      "Loaded 10 documents.\n",
      "page_content='{\"요리명\": \"미역국\", \"요리재료\": [{\"재료\": \"미역(마른것)\", \"용량\": \"5줌(20g)\"}, {\"재료\": \"쇠고기(양지머리)\", \"용량\": \"120g\"}, {\"재료\": \"물\", \"용량\": \"8컵(1\"}, {\"재료\": \"재래간장 1과\", \"용량\": \"1/2큰술(22ml)\"}, {\"재료\": \"마늘(다진 마늘)\", \"용량\": \"1큰술(10g)\"}, {\"재료\": \"소금\", \"용량\": \"작은술(3g)\"}, {\"재료\": \"참기름\", \"용량\": \"작은술(5ml)\"}], \"기본정보\": {\"조리시간\": \"30분\", \"분량\": \"4인분 기준\", \"칼로리\": \"81kcal (1인분)\"}, \"조리순서\": [\"01. 마른 미역은 찬물에 담가 10분간 불린다. 찬물에 바락바락 씻어 거품이 나오지 않을 때까지 헹군다.\", \"02. 물기를 꼭 짠 후 적당한 크기로 자른 후 재래간장 1/2큰술을 넣고 조물조물 무친다.\", \"03. 쇠고기는 한입 크기로 썬 후 달군 냄비에 참기름을 두르고 쇠고기, 마늘을 넣어 볶다가 쇠고기가 거의 익으면 미역을 넣고 볶는다.\", \"04. 03에 물을 넣고 한소끔 끓인다. 재래간장과 소금으로 간하고 더 끓인다. (물 대신 쌀뜨물을 넣으면 더욱 구수하고 맛있는 미역국을 만들 수 있다.)\"]}'\n",
      "page_content='{\"요리명\": \"늙은호박죽\", \"요리재료\": [{\"재료\": \"호박(늙은호박)\", \"용량\": \"300g\"}, {\"재료\": \"물\", \"용량\": \"3컵(600ml)\"}, {\"재료\": \"찹쌀가루\", \"용량\": \"3큰술(30g)\"}, {\"재료\": \"소금\", \"용량\": \"1/2작은술(2g)\"}, {\"재료\": \"설탕 1큰술(10g)· 재료설명 : 호박 삶을 물(물\", \"용량\": \"2컵(400ml))\"}, {\"재료\": \"찹쌀가루 물(물 1컵(200ml))· 대체재료 : 찹쌀가루 → 멥쌀가루 (찹쌀가루 대신 멥쌀가루로 대체하여도\", \"용량\": \"된다.)\"}], \"기본정보\": {\"조리시간\": \"30분\", \"분량\": \"2인분 기준\", \"칼로리\": \"238kcal (1인분)\"}, \"조리순서\": [\"01. 늙은호박은 껍질을 벗기고 숟가락으로 씨를 긁어낸 후 사방 2cm 크기로 썬다. 냄비에 늙은호박과 물 2컵을 붓고 늙은 호박이 익을 때까지 끓인다.\", \"02. 푸드 프로세서에 늙은호박과 늙은호박 삶은 물을 넣고 곱게 간다.\", \"03. 볼에 찹쌀가루와 물 1컵을 넣고 잘 섞는다.\", \"04. 냄비에 간 늙은호박과 찹쌀가루 풀어준 물을 넣고 주걱으로 저어가며 끓인다.\", \"05. 찹쌀가루가 익으면 소금과 설탕으로 간한다.\"]}'\n",
      "page_content='{\"요리명\": \"연근조림\", \"요리재료\": [{\"재료\": \"연근\", \"용량\": \"120g\"}, {\"재료\": \"간장\", \"용량\": \"17ml\"}, {\"재료\": \"식초\", \"용량\": \"1/2큰술(7ml)\"}, {\"재료\": \"양념(간장\", \"용량\": \"2큰술(30ml)\"}, {\"재료\": \"물엿\", \"용량\": \"1큰술(10g)\"}, {\"재료\": \"설탕\", \"용량\": \"1큰술(10g)\"}, {\"재료\": \"식용유\", \"용량\": \"1/2큰술(7ml))\"}, {\"재료\": \"참기름\", \"용량\": \"1/2작은술(2ml)\"}, {\"재료\": \"통깨\", \"용량\": \"1/2작은술(2g)\"}], \"기본정보\": {\"조리시간\": \"25분\", \"분량\": \"2인분 기준\", \"칼로리\": \"60kcal (1인분)\"}, \"조리순서\": [\"01. 연근 껍질은 벗기고 0.5cm 두께로 썬다. 냄비에 물 1컵(200ml), 식초, 연근을 넣고 연근이 반쯤 익을 때까지 데친다. 체에 밭쳐 물기를 뺀다.(연근을 식촛물에 데처내어 아린맛을 없애고 조리는 시간을 줄일 수 있다.)\", \"02. 냄비에 물 1컵(200ml)과 양념 재료, 연근을 넣고 조린다.\", \"03. 국물이 거의 없어질 때까지 조린 뒤 불을 끄고 참기름과 통깨를 넣고 버무린다.\"]}'\n"
     ]
    }
   ],
   "source": [
    "\n",
    "# 2. 문서 불러오기\n",
    "import json\n",
    "\n",
    "from langchain.schema import Document\n",
    "\n",
    "# JSON 파일 로드 함수\n",
    "def load_json_as_documents(file_path):\n",
    "    \"\"\"\n",
    "    JSON 파일을 읽어 LangChain의 Document 객체 리스트로 변환\n",
    "    \"\"\"\n",
    "    with open(file_path, 'r', encoding='utf-8') as file:\n",
    "        data = json.load(file)\n",
    "    \n",
    "    # JSON 데이터 -> LangChain Document로 변환\n",
    "    documents = []\n",
    "    for item in data:\n",
    "        # 각 항목을 Document 객체로 변환\n",
    "        content = json.dumps(item, ensure_ascii=False)  # JSON 데이터를 문자열로 직렬화\n",
    "        documents.append(Document(page_content=content))\n",
    "    \n",
    "    return documents\n",
    "\n",
    "# JSON 파일 경로\n",
    "file_path = \"/Users/t2023-m0072/Desktop/AI_8_CH-3_LLM-RAG_AI_Utilizatioon_App/personal_work/차아인/food_recipes.json\"\n",
    "\n",
    "# JSON 데이터를 문서로 로드\n",
    "docs = load_json_as_documents(file_path)\n",
    "\n",
    "# 문서 확인\n",
    "print(f\"Loaded {len(docs)} documents.\")\n",
    "for doc in docs[:3]:  # 샘플 출력\n",
    "    print(doc)\n"
   ]
  },
  {
   "cell_type": "code",
   "execution_count": 4,
   "metadata": {},
   "outputs": [],
   "source": [
    "\n",
    "# 3. 문서 chunking 하기\n",
    "text_splitter = RecursiveCharacterTextSplitter(chunk_size=1000, chunk_overlap=200)\n",
    "splits = text_splitter.split_documents(docs)\n",
    "\n",
    "# 4. 자른 chunk들을 embedding 하기\n",
    "embeddings = OpenAIEmbeddings(model=\"text-embedding-ada-002\")\n",
    "\n",
    "# 5. vector store 구축하기\n",
    "vectorstore = FAISS.from_documents(documents=splits, embedding=embeddings)\n",
    "\n",
    "# 6. retriever 구축하기\n",
    "retriever = vectorstore.as_retriever()\n"
   ]
  },
  {
   "cell_type": "code",
   "execution_count": 5,
   "metadata": {},
   "outputs": [
    {
     "name": "stdout",
     "output_type": "stream",
     "text": [
      "물론입니다! 미역으로 만들 수 있는 요리 중 하나는 \"미역국\"입니다. 아래에 미역국의 레시피를 자세히 안내해 드리겠습니다.\n",
      "\n",
      "### 요리명: 미역국\n",
      "\n",
      "#### 필요한 재료\n",
      "- 미역(마른것): 5줌 (20g)\n",
      "- 쇠고기(양지머리): 120g\n",
      "- 물: 8컵 (1.9L)\n",
      "- 재래간장: 1/2큰술 (22ml)\n",
      "- 마늘(다진 마늘): 1큰술 (10g)\n",
      "- 소금: 작은술 (3g)\n",
      "- 참기름: 작은술 (5ml)\n",
      "\n",
      "#### 요리 방법\n",
      "1. 마른 미역은 찬물에 담가 10분간 불립니다. 이후 찬물에 바락바락 씻어 거품이 나오지 않을 때까지 헹궈 줍니다.\n",
      "2. 물기를 꼭 짠 후 적당한 크기로 자르며, 재래간장 1/2큰술을 넣고 조물조물 무칩니다.\n",
      "3. 쇠고기는 한입 크기로 썬 후, 달군 냄비에 참기름을 두르고 쇠고기와 다진 마늘을 넣어 볶습니다. 쇠고기가 거의 익으면 미역을 넣고 함께 볶습니다.\n",
      "4. 3번에서 물을 넣고 한소끔 끓인 후, 재래간장과 소금으로 간하며 더 끓입니다. (물 대신 쌀뜨물을 사용하면 더욱 구수하고 맛있는 미역국이 됩니다.)\n",
      "\n",
      "#### 조리 시간\n",
      "- 약 30분\n",
      "\n",
      "#### 인분 수\n",
      "- 4인분 기준\n",
      "\n",
      "이렇게 간단하게 미역국을 만들 수 있습니다. 미역국은 담백하면서도 영양가가 풍부하여 많은 사랑을 받는 한국 전통 음식입니다. 즐거운 요리 시간 되세요!\n"
     ]
    }
   ],
   "source": [
    "# 7. 프롬프트 템플릿 구축하기\n",
    "prompt = ChatPromptTemplate.from_template(\"\"\"\n",
    "너는 사용자가 입력한 [재료]에 따라 관련 요리를 알려주는 요리사야.\n",
    "친절하고 전문적인 말투로 응답해.\n",
    "이 재료들로 만들 수 있는 요리의 이름들을 알려주고 사용자가 원하는 요리의 상세한 레시피를 아래와 같은 형식으로 알려줘.\n",
    "- 요리의 이름\n",
    "- 필요한 재료\n",
    "- 요리 방법\n",
    "- 조리 시간\n",
    "- 인분 수\n",
    "\n",
    "\n",
    "{context}\n",
    "질문:\n",
    "{question}\n",
    "\"\"\")\n",
    "\n",
    "\n",
    "# 8. 1~7. 요소들을 chain으로 조합하여 RAG 구축 완료\n",
    "def format_docs(docs):\n",
    "    return \"\\n\\n\".join(doc.page_content for doc in docs)\n",
    "\n",
    "rag_chain = (\n",
    "    {\"context\": retriever | format_docs, \"question\": RunnablePassthrough()}\n",
    "    | prompt\n",
    "    | llm\n",
    "    | StrOutputParser()\n",
    ")\n",
    "\n",
    "\n",
    "####################\n",
    "####### 구축한 RAG 챗봇 실행\n",
    "###################\n",
    "\n",
    "print(rag_chain.invoke(\"미역으로 만들 수 있는 요리가 있을까요?\"))\n"
   ]
  },
  {
   "cell_type": "markdown",
   "metadata": {},
   "source": [
    "## Done\n",
    "- RAG 간단하게 구성하고 임시 데이터셋과 연결\n",
    "- 간단한 프롬프트 작성\n",
    "\n",
    "## TO DO\n",
    "- 이 챗봇에 넣을 기능들 생각해보기"
   ]
  },
  {
   "cell_type": "code",
   "execution_count": null,
   "metadata": {},
   "outputs": [],
   "source": []
  }
 ],
 "metadata": {
  "kernelspec": {
   "display_name": "LLM_RAG",
   "language": "python",
   "name": "python3"
  },
  "language_info": {
   "codemirror_mode": {
    "name": "ipython",
    "version": 3
   },
   "file_extension": ".py",
   "mimetype": "text/x-python",
   "name": "python",
   "nbconvert_exporter": "python",
   "pygments_lexer": "ipython3",
   "version": "3.12.7"
  }
 },
 "nbformat": 4,
 "nbformat_minor": 2
}
